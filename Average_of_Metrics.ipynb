{
  "nbformat": 4,
  "nbformat_minor": 0,
  "metadata": {
    "colab": {
      "name": "Average of Metrics.ipynb",
      "provenance": []
    },
    "kernelspec": {
      "name": "python3",
      "display_name": "Python 3"
    },
    "language_info": {
      "name": "python"
    }
  },
  "cells": [
    {
      "cell_type": "code",
      "execution_count": null,
      "metadata": {
        "id": "2Tbki_IGms8j"
      },
      "outputs": [],
      "source": [
        "import pandas as pd\n",
        "import numpy as np"
      ]
    },
    {
      "cell_type": "code",
      "source": [
        "df = pd.read_csv('/content/high_instance_binary.csv')\n",
        "df = df.drop('Fold Number', axis=1)"
      ],
      "metadata": {
        "id": "qp7OUa5ivLk4"
      },
      "execution_count": null,
      "outputs": []
    },
    {
      "cell_type": "code",
      "source": [
        "df_scores_average_scores = pd.DataFrame(columns=['Accuracy','F1','Geometric Mean','AUC'])\n",
        "df_scores_average_scores = df.groupby(np.arange(len(df))//5).mean()\n",
        "\n",
        "unique_algorithm = df['Algorithm'].unique()\n",
        "unique_dataset = df['Dataset'].unique()\n",
        "unique_model = df['Model'].unique()\n",
        "\n",
        "df_scores_average_names = pd.DataFrame(columns=['Algorithm','Dataset','Model'])\n",
        "\n",
        "for i in unique_algorithm:\n",
        "  for j in unique_dataset:\n",
        "    for k in unique_model:\n",
        "      df_scores_average_names.loc[0 if pd.isnull(df_scores_average_names.index.max()) else df_scores_average_names.index.max() + 1] = [i, j, k]\n",
        "\n",
        "data = [df_scores_average_names.reset_index(drop=True), df_scores_average_scores.reset_index(drop=True)]\n",
        "\n",
        "df_scores = pd.concat(data, axis=1)\n",
        "df_scores.to_csv('high_instance_binary_average.csv')"
      ],
      "metadata": {
        "id": "K1NDRJN_uGTl"
      },
      "execution_count": null,
      "outputs": []
    }
  ]
}